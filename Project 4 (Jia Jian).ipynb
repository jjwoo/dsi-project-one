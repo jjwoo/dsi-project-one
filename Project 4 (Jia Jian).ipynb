{
 "cells": [
  {
   "cell_type": "code",
   "execution_count": 423,
   "metadata": {},
   "outputs": [],
   "source": [
    "import pandas as pd\n",
    "import seaborn as sns\n",
    "import numpy as np\n",
    "import re\n",
    "import matplotlib.pyplot as plt\n",
    "from textblob import TextBlob\n",
    "from sklearn.feature_extraction.text import CountVectorizer, TfidfVectorizer, HashingVectorizer\n",
    "from sklearn.linear_model import LinearRegression, LogisticRegression\n",
    "from sklearn.model_selection import train_test_split\n",
    "from sklearn.naive_bayes import MultinomialNB\n",
    "from sklearn import metrics\n",
    "from sklearn.ensemble import RandomForestClassifier\n",
    "from nltk.corpus import stopwords\n",
    "from sklearn.metrics import confusion_matrix\n",
    "from sklearn.metrics import classification_report\n",
    "from sklearn import preprocessing\n",
    "from sklearn import utils"
   ]
  },
  {
   "cell_type": "markdown",
   "metadata": {},
   "source": [
    "### Question 1"
   ]
  },
  {
   "cell_type": "code",
   "execution_count": 424,
   "metadata": {},
   "outputs": [],
   "source": [
    "jobs = pd.read_csv('./Master Copy (standardized jobs).csv')"
   ]
  },
  {
   "cell_type": "code",
   "execution_count": 425,
   "metadata": {},
   "outputs": [
    {
     "data": {
      "text/html": [
       "<div>\n",
       "<style scoped>\n",
       "    .dataframe tbody tr th:only-of-type {\n",
       "        vertical-align: middle;\n",
       "    }\n",
       "\n",
       "    .dataframe tbody tr th {\n",
       "        vertical-align: top;\n",
       "    }\n",
       "\n",
       "    .dataframe thead th {\n",
       "        text-align: right;\n",
       "    }\n",
       "</style>\n",
       "<table border=\"1\" class=\"dataframe\">\n",
       "  <thead>\n",
       "    <tr style=\"text-align: right;\">\n",
       "      <th></th>\n",
       "      <th>Unnamed: 0</th>\n",
       "      <th>category</th>\n",
       "      <th>company</th>\n",
       "      <th>details</th>\n",
       "      <th>experience</th>\n",
       "      <th>industry</th>\n",
       "      <th>location</th>\n",
       "      <th>salary</th>\n",
       "      <th>title</th>\n",
       "    </tr>\n",
       "  </thead>\n",
       "  <tbody>\n",
       "    <tr>\n",
       "      <th>0</th>\n",
       "      <td>0</td>\n",
       "      <td>Other</td>\n",
       "      <td>Integrated Resources, Inc</td>\n",
       "      <td>Job Title: Machine Learning AI Engineer\\nDurat...</td>\n",
       "      <td>5+ year</td>\n",
       "      <td>Other Great Industries</td>\n",
       "      <td>Bellevue, WA</td>\n",
       "      <td>NaN</td>\n",
       "      <td>AI Engineer</td>\n",
       "    </tr>\n",
       "    <tr>\n",
       "      <th>1</th>\n",
       "      <td>1</td>\n",
       "      <td>Engineering</td>\n",
       "      <td>Amazon.com</td>\n",
       "      <td>Amazon Web Services (AWS) is looking for an AI...</td>\n",
       "      <td>2+ years</td>\n",
       "      <td>Other Great Industries</td>\n",
       "      <td>Irvine, CA</td>\n",
       "      <td>NaN</td>\n",
       "      <td>AI Engineer</td>\n",
       "    </tr>\n",
       "    <tr>\n",
       "      <th>2</th>\n",
       "      <td>2</td>\n",
       "      <td>Information Technology</td>\n",
       "      <td>Strategic Staffing Solutions</td>\n",
       "      <td>JobID: 136363Artificial Intelligence (AI) Plat...</td>\n",
       "      <td>NaN</td>\n",
       "      <td>Other Great Industries</td>\n",
       "      <td>301 S. Tryon StreetCharlotte, NC 28202</td>\n",
       "      <td>NaN</td>\n",
       "      <td>AI Engineer</td>\n",
       "    </tr>\n",
       "    <tr>\n",
       "      <th>3</th>\n",
       "      <td>3</td>\n",
       "      <td>Information Technology</td>\n",
       "      <td>Wells Fargo</td>\n",
       "      <td>Job DescriptionAt Wells Fargo, we have one goa...</td>\n",
       "      <td>7+ years</td>\n",
       "      <td>Other Great Industries</td>\n",
       "      <td>Minneapolis, MN</td>\n",
       "      <td>NaN</td>\n",
       "      <td>AI Engineer</td>\n",
       "    </tr>\n",
       "    <tr>\n",
       "      <th>4</th>\n",
       "      <td>4</td>\n",
       "      <td>Engineering</td>\n",
       "      <td>Discover Financial Services, Inc</td>\n",
       "      <td>Discover Financial Services is a direct bankin...</td>\n",
       "      <td>3 years</td>\n",
       "      <td>Other Great Industries</td>\n",
       "      <td>Riverwoods, IL 60015</td>\n",
       "      <td>NaN</td>\n",
       "      <td>AI Engineer</td>\n",
       "    </tr>\n",
       "  </tbody>\n",
       "</table>\n",
       "</div>"
      ],
      "text/plain": [
       "   Unnamed: 0                category                           company  \\\n",
       "0           0                   Other         Integrated Resources, Inc   \n",
       "1           1             Engineering                        Amazon.com   \n",
       "2           2  Information Technology      Strategic Staffing Solutions   \n",
       "3           3  Information Technology                       Wells Fargo   \n",
       "4           4             Engineering  Discover Financial Services, Inc   \n",
       "\n",
       "                                             details experience  \\\n",
       "0  Job Title: Machine Learning AI Engineer\\nDurat...    5+ year   \n",
       "1  Amazon Web Services (AWS) is looking for an AI...   2+ years   \n",
       "2  JobID: 136363Artificial Intelligence (AI) Plat...        NaN   \n",
       "3  Job DescriptionAt Wells Fargo, we have one goa...   7+ years   \n",
       "4  Discover Financial Services is a direct bankin...    3 years   \n",
       "\n",
       "                 industry                                location salary  \\\n",
       "0  Other Great Industries                            Bellevue, WA    NaN   \n",
       "1  Other Great Industries                              Irvine, CA    NaN   \n",
       "2  Other Great Industries  301 S. Tryon StreetCharlotte, NC 28202    NaN   \n",
       "3  Other Great Industries                         Minneapolis, MN    NaN   \n",
       "4  Other Great Industries                    Riverwoods, IL 60015    NaN   \n",
       "\n",
       "         title  \n",
       "0  AI Engineer  \n",
       "1  AI Engineer  \n",
       "2  AI Engineer  \n",
       "3  AI Engineer  \n",
       "4  AI Engineer  "
      ]
     },
     "execution_count": 425,
     "metadata": {},
     "output_type": "execute_result"
    }
   ],
   "source": [
    "jobs.head()"
   ]
  },
  {
   "cell_type": "code",
   "execution_count": 426,
   "metadata": {},
   "outputs": [
    {
     "data": {
      "text/plain": [
       "(3963, 9)"
      ]
     },
     "execution_count": 426,
     "metadata": {},
     "output_type": "execute_result"
    }
   ],
   "source": [
    "jobs.shape"
   ]
  },
  {
   "cell_type": "code",
   "execution_count": 427,
   "metadata": {},
   "outputs": [
    {
     "data": {
      "text/plain": [
       "Index([u'Unnamed: 0', u'category', u'company', u'details', u'experience',\n",
       "       u'industry', u'location', u'salary', u'title'],\n",
       "      dtype='object')"
      ]
     },
     "execution_count": 427,
     "metadata": {},
     "output_type": "execute_result"
    }
   ],
   "source": [
    "jobs.columns"
   ]
  },
  {
   "cell_type": "code",
   "execution_count": 428,
   "metadata": {},
   "outputs": [],
   "source": [
    "jobs = jobs.drop(['Unnamed: 0','category'],axis = 1)"
   ]
  },
  {
   "cell_type": "code",
   "execution_count": 429,
   "metadata": {},
   "outputs": [
    {
     "data": {
      "text/plain": [
       "company       object\n",
       "details       object\n",
       "experience    object\n",
       "industry      object\n",
       "location      object\n",
       "salary        object\n",
       "title         object\n",
       "dtype: object"
      ]
     },
     "execution_count": 429,
     "metadata": {},
     "output_type": "execute_result"
    }
   ],
   "source": [
    "jobs.dtypes"
   ]
  },
  {
   "cell_type": "code",
   "execution_count": 430,
   "metadata": {},
   "outputs": [
    {
     "data": {
      "text/html": [
       "<div>\n",
       "<style scoped>\n",
       "    .dataframe tbody tr th:only-of-type {\n",
       "        vertical-align: middle;\n",
       "    }\n",
       "\n",
       "    .dataframe tbody tr th {\n",
       "        vertical-align: top;\n",
       "    }\n",
       "\n",
       "    .dataframe thead th {\n",
       "        text-align: right;\n",
       "    }\n",
       "</style>\n",
       "<table border=\"1\" class=\"dataframe\">\n",
       "  <thead>\n",
       "    <tr style=\"text-align: right;\">\n",
       "      <th></th>\n",
       "      <th>company</th>\n",
       "      <th>details</th>\n",
       "      <th>experience</th>\n",
       "      <th>industry</th>\n",
       "      <th>location</th>\n",
       "      <th>salary</th>\n",
       "      <th>title</th>\n",
       "    </tr>\n",
       "  </thead>\n",
       "  <tbody>\n",
       "    <tr>\n",
       "      <th>0</th>\n",
       "      <td>Integrated Resources, Inc</td>\n",
       "      <td>Job Title: Machine Learning AI Engineer\\nDurat...</td>\n",
       "      <td>5+ year</td>\n",
       "      <td>Other Great Industries</td>\n",
       "      <td>Bellevue, WA</td>\n",
       "      <td>NaN</td>\n",
       "      <td>AI Engineer</td>\n",
       "    </tr>\n",
       "    <tr>\n",
       "      <th>1</th>\n",
       "      <td>Amazon.com</td>\n",
       "      <td>Amazon Web Services (AWS) is looking for an AI...</td>\n",
       "      <td>2+ years</td>\n",
       "      <td>Other Great Industries</td>\n",
       "      <td>Irvine, CA</td>\n",
       "      <td>NaN</td>\n",
       "      <td>AI Engineer</td>\n",
       "    </tr>\n",
       "    <tr>\n",
       "      <th>2</th>\n",
       "      <td>Strategic Staffing Solutions</td>\n",
       "      <td>JobID: 136363Artificial Intelligence (AI) Plat...</td>\n",
       "      <td>NaN</td>\n",
       "      <td>Other Great Industries</td>\n",
       "      <td>301 S. Tryon StreetCharlotte, NC 28202</td>\n",
       "      <td>NaN</td>\n",
       "      <td>AI Engineer</td>\n",
       "    </tr>\n",
       "    <tr>\n",
       "      <th>3</th>\n",
       "      <td>Wells Fargo</td>\n",
       "      <td>Job DescriptionAt Wells Fargo, we have one goa...</td>\n",
       "      <td>7+ years</td>\n",
       "      <td>Other Great Industries</td>\n",
       "      <td>Minneapolis, MN</td>\n",
       "      <td>NaN</td>\n",
       "      <td>AI Engineer</td>\n",
       "    </tr>\n",
       "    <tr>\n",
       "      <th>4</th>\n",
       "      <td>Discover Financial Services, Inc</td>\n",
       "      <td>Discover Financial Services is a direct bankin...</td>\n",
       "      <td>3 years</td>\n",
       "      <td>Other Great Industries</td>\n",
       "      <td>Riverwoods, IL 60015</td>\n",
       "      <td>NaN</td>\n",
       "      <td>AI Engineer</td>\n",
       "    </tr>\n",
       "  </tbody>\n",
       "</table>\n",
       "</div>"
      ],
      "text/plain": [
       "                            company  \\\n",
       "0         Integrated Resources, Inc   \n",
       "1                        Amazon.com   \n",
       "2      Strategic Staffing Solutions   \n",
       "3                       Wells Fargo   \n",
       "4  Discover Financial Services, Inc   \n",
       "\n",
       "                                             details experience  \\\n",
       "0  Job Title: Machine Learning AI Engineer\\nDurat...    5+ year   \n",
       "1  Amazon Web Services (AWS) is looking for an AI...   2+ years   \n",
       "2  JobID: 136363Artificial Intelligence (AI) Plat...        NaN   \n",
       "3  Job DescriptionAt Wells Fargo, we have one goa...   7+ years   \n",
       "4  Discover Financial Services is a direct bankin...    3 years   \n",
       "\n",
       "                 industry                                location salary  \\\n",
       "0  Other Great Industries                            Bellevue, WA    NaN   \n",
       "1  Other Great Industries                              Irvine, CA    NaN   \n",
       "2  Other Great Industries  301 S. Tryon StreetCharlotte, NC 28202    NaN   \n",
       "3  Other Great Industries                         Minneapolis, MN    NaN   \n",
       "4  Other Great Industries                    Riverwoods, IL 60015    NaN   \n",
       "\n",
       "         title  \n",
       "0  AI Engineer  \n",
       "1  AI Engineer  \n",
       "2  AI Engineer  \n",
       "3  AI Engineer  \n",
       "4  AI Engineer  "
      ]
     },
     "execution_count": 430,
     "metadata": {},
     "output_type": "execute_result"
    }
   ],
   "source": [
    "jobs.head()"
   ]
  },
  {
   "cell_type": "code",
   "execution_count": 431,
   "metadata": {
    "scrolled": true
   },
   "outputs": [
    {
     "data": {
      "text/plain": [
       "company       object\n",
       "details       object\n",
       "experience    object\n",
       "industry      object\n",
       "location      object\n",
       "salary        object\n",
       "title         object\n",
       "dtype: object"
      ]
     },
     "execution_count": 431,
     "metadata": {},
     "output_type": "execute_result"
    }
   ],
   "source": [
    "jobs.dtypes"
   ]
  },
  {
   "cell_type": "code",
   "execution_count": 432,
   "metadata": {},
   "outputs": [
    {
     "data": {
      "text/plain": [
       "company        252\n",
       "details          2\n",
       "experience    1598\n",
       "industry         2\n",
       "location         4\n",
       "salary        2261\n",
       "title            0\n",
       "dtype: int64"
      ]
     },
     "execution_count": 432,
     "metadata": {},
     "output_type": "execute_result"
    }
   ],
   "source": [
    "jobs.isnull().sum()"
   ]
  },
  {
   "cell_type": "code",
   "execution_count": 433,
   "metadata": {},
   "outputs": [
    {
     "data": {
      "text/plain": [
       "company       120\n",
       "details         0\n",
       "experience    739\n",
       "industry        0\n",
       "location        1\n",
       "salary          0\n",
       "title           0\n",
       "dtype: int64"
      ]
     },
     "execution_count": 433,
     "metadata": {},
     "output_type": "execute_result"
    }
   ],
   "source": [
    "jobs.dropna(subset=['salary'], inplace=True)\n",
    "# Drop rows without salary information\n",
    "\n",
    "jobs.isnull().sum()"
   ]
  },
  {
   "cell_type": "code",
   "execution_count": 434,
   "metadata": {},
   "outputs": [
    {
     "data": {
      "text/html": [
       "<div>\n",
       "<style scoped>\n",
       "    .dataframe tbody tr th:only-of-type {\n",
       "        vertical-align: middle;\n",
       "    }\n",
       "\n",
       "    .dataframe tbody tr th {\n",
       "        vertical-align: top;\n",
       "    }\n",
       "\n",
       "    .dataframe thead th {\n",
       "        text-align: right;\n",
       "    }\n",
       "</style>\n",
       "<table border=\"1\" class=\"dataframe\">\n",
       "  <thead>\n",
       "    <tr style=\"text-align: right;\">\n",
       "      <th></th>\n",
       "      <th>company</th>\n",
       "      <th>details</th>\n",
       "      <th>experience</th>\n",
       "      <th>industry</th>\n",
       "      <th>location</th>\n",
       "      <th>salary</th>\n",
       "      <th>title</th>\n",
       "    </tr>\n",
       "  </thead>\n",
       "  <tbody>\n",
       "    <tr>\n",
       "      <th>12</th>\n",
       "      <td>American Cybersystems, Inc. (ACS Group)</td>\n",
       "      <td>Job Title: (IDS) Data Scientist \\n Location: N...</td>\n",
       "      <td>NaN</td>\n",
       "      <td>Other Great Industries</td>\n",
       "      <td>Newport News, VA</td>\n",
       "      <td>$50.00 - $70.00 /Hour</td>\n",
       "      <td>AI Engineer</td>\n",
       "    </tr>\n",
       "    <tr>\n",
       "      <th>16</th>\n",
       "      <td>CyberCoders</td>\n",
       "      <td>This position is open as of 4/22/2018.Leading ...</td>\n",
       "      <td>NaN</td>\n",
       "      <td>Industrial</td>\n",
       "      <td>Los Angeles, CA 90001</td>\n",
       "      <td>$120,000.00 - $160,000.00 /Year</td>\n",
       "      <td>AI Engineer</td>\n",
       "    </tr>\n",
       "    <tr>\n",
       "      <th>17</th>\n",
       "      <td>Synergy Business Consulting, Inc.</td>\n",
       "      <td>Data Scientist\\nPosition Summary:\\n \\nSeeking ...</td>\n",
       "      <td>2+ years</td>\n",
       "      <td>Travel</td>\n",
       "      <td>Miami, FL</td>\n",
       "      <td>$90,000.00 - $110,000.00 /Year</td>\n",
       "      <td>AI Engineer</td>\n",
       "    </tr>\n",
       "    <tr>\n",
       "      <th>22</th>\n",
       "      <td>Access Staffing LLC</td>\n",
       "      <td>Data Scientist- Texas- Contract only!!!\\nDurat...</td>\n",
       "      <td>NaN</td>\n",
       "      <td>Consulting</td>\n",
       "      <td>Houston, TX</td>\n",
       "      <td>$0.00 - $75,000.00 /Year</td>\n",
       "      <td>AI Engineer</td>\n",
       "    </tr>\n",
       "    <tr>\n",
       "      <th>37</th>\n",
       "      <td>American Cybersystems, Inc. (ACS Group)</td>\n",
       "      <td>Job Title: (IDS) Data Scientist \\n Location: N...</td>\n",
       "      <td>NaN</td>\n",
       "      <td>Other Great Industries</td>\n",
       "      <td>Newport News, VA</td>\n",
       "      <td>$50.00 - $70.00 /Hour</td>\n",
       "      <td>AI Engineer</td>\n",
       "    </tr>\n",
       "  </tbody>\n",
       "</table>\n",
       "</div>"
      ],
      "text/plain": [
       "                                    company  \\\n",
       "12  American Cybersystems, Inc. (ACS Group)   \n",
       "16                              CyberCoders   \n",
       "17        Synergy Business Consulting, Inc.   \n",
       "22                      Access Staffing LLC   \n",
       "37  American Cybersystems, Inc. (ACS Group)   \n",
       "\n",
       "                                              details experience  \\\n",
       "12  Job Title: (IDS) Data Scientist \\n Location: N...        NaN   \n",
       "16  This position is open as of 4/22/2018.Leading ...        NaN   \n",
       "17  Data Scientist\\nPosition Summary:\\n \\nSeeking ...   2+ years   \n",
       "22  Data Scientist- Texas- Contract only!!!\\nDurat...        NaN   \n",
       "37  Job Title: (IDS) Data Scientist \\n Location: N...        NaN   \n",
       "\n",
       "                  industry               location  \\\n",
       "12  Other Great Industries       Newport News, VA   \n",
       "16              Industrial  Los Angeles, CA 90001   \n",
       "17                  Travel              Miami, FL   \n",
       "22              Consulting            Houston, TX   \n",
       "37  Other Great Industries       Newport News, VA   \n",
       "\n",
       "                             salary        title  \n",
       "12            $50.00 - $70.00 /Hour  AI Engineer  \n",
       "16  $120,000.00 - $160,000.00 /Year  AI Engineer  \n",
       "17   $90,000.00 - $110,000.00 /Year  AI Engineer  \n",
       "22         $0.00 - $75,000.00 /Year  AI Engineer  \n",
       "37            $50.00 - $70.00 /Hour  AI Engineer  "
      ]
     },
     "execution_count": 434,
     "metadata": {},
     "output_type": "execute_result"
    }
   ],
   "source": [
    "jobs.head()"
   ]
  },
  {
   "cell_type": "code",
   "execution_count": 435,
   "metadata": {},
   "outputs": [
    {
     "data": {
      "text/plain": [
       "(1702, 7)"
      ]
     },
     "execution_count": 435,
     "metadata": {},
     "output_type": "execute_result"
    }
   ],
   "source": [
    "jobs.shape"
   ]
  },
  {
   "cell_type": "code",
   "execution_count": 436,
   "metadata": {},
   "outputs": [],
   "source": [
    "jobs['details'] = jobs['details'].map(lambda s: s.strip())"
   ]
  },
  {
   "cell_type": "code",
   "execution_count": 437,
   "metadata": {},
   "outputs": [
    {
     "name": "stdout",
     "output_type": "stream",
     "text": [
      "12      job title: (ids) data scientist \\n location: n...\n",
      "16      this position is open as of 4/22/2018.leading ...\n",
      "17      data scientist\\nposition summary:\\n \\nseeking ...\n",
      "22      data scientist- texas- contract only!!!\\ndurat...\n",
      "37      job title: (ids) data scientist \\n location: n...\n",
      "41      this position is open as of 4/22/2018.leading ...\n",
      "42      data scientist\\nposition summary:\\n \\nseeking ...\n",
      "47      data scientist- texas- contract only!!!\\ndurat...\n",
      "62      job title: (ids) data scientist \\n location: n...\n",
      "66      this position is open as of 4/22/2018.leading ...\n",
      "67      data scientist\\nposition summary:\\n \\nseeking ...\n",
      "72      data scientist- texas- contract only!!!\\ndurat...\n",
      "87      job title: (ids) data scientist \\n location: n...\n",
      "91      this position is open as of 4/22/2018.leading ...\n",
      "92      data scientist\\nposition summary:\\n \\nseeking ...\n",
      "96      data scientist- texas- contract only!!!\\ndurat...\n",
      "112     job title: (ids) data scientist \\n location: n...\n",
      "116     this position is open as of 4/22/2018.leading ...\n",
      "117     data scientist\\nposition summary:\\n \\nseeking ...\n",
      "121     data scientist- texas- contract only!!!\\ndurat...\n",
      "137     job title: (ids) data scientist \\n location: n...\n",
      "141     this position is open as of 4/22/2018.leading ...\n",
      "142     data scientist\\nposition summary:\\n \\nseeking ...\n",
      "146     data scientist- texas- contract only!!!\\ndurat...\n",
      "162     job title: (ids) data scientist \\n location: n...\n",
      "166     this position is open as of 4/22/2018.leading ...\n",
      "167     data scientist\\nposition summary:\\n \\nseeking ...\n",
      "171     data scientist- texas- contract only!!!\\ndurat...\n",
      "187     job title: (ids) data scientist \\n location: n...\n",
      "191     this position is open as of 4/22/2018.leading ...\n",
      "                              ...                        \n",
      "3930    our client, located in new providence, nj, is ...\n",
      "3931    our client has a permanent financial analyst/ ...\n",
      "3932    this position is open as of 4/22/2018..net dev...\n",
      "3933    transit authority of northern kentucky\\npositi...\n",
      "3934    are you an experienced financial analyst looki...\n",
      "3935    job summary\\nwe are seeking a revenue manager ...\n",
      "3936    bilingual korean/english operations analyst lo...\n",
      "3937    senior financial analyst - lead\\n\\n\\nour fortu...\n",
      "3938    billing finance analyst  columbus, oh  6 month...\n",
      "3939    job description\\ndivision of an established, p...\n",
      "3940    senior treasury analyst\\n\\nour client, a globa...\n",
      "3941    financial analystsummary: our client, a growin...\n",
      "3943    do you have a natural curiosity about the fina...\n",
      "3945    job title:\\nprincipal engineer (pe)\\n\\ntype of...\n",
      "3946    senior financial planning analyst\\n\\nseeking c...\n",
      "3947    operations analyst job in greenville, nj are y...\n",
      "3948    financial analyst\\n\\n\\n\\nmiami real estate com...\n",
      "3949    experience and qualifications:\\n•             ...\n",
      "3950    summary: we are working with a manufacturer th...\n",
      "3951    creating value by bringing together the right ...\n",
      "3952    senior financial analyst\\n\\nfortune personnel ...\n",
      "3953    pay rate/salary: $11-13 / hour\\nstaffmark is s...\n",
      "3954    this position is open as of 4/22/2018.financia...\n",
      "3955    ref id: 01130-0010399893classification: avp of...\n",
      "3956    manpower is now hiring for an engineer in a pr...\n",
      "3957    ref id: 00610-0010389360classification: royalt...\n",
      "3958    vip search group has a client in the plano tha...\n",
      "3959    business analyst \\n \\na large financial instit...\n",
      "3960    data scientist- texas- contract only!!!\\ndurat...\n",
      "3961    financial analyst, fp&a role in the rosemont a...\n",
      "Name: details, Length: 1702, dtype: object\n"
     ]
    }
   ],
   "source": [
    "jobs['details'] = jobs['details'].apply(lambda x: x.lower())\n",
    "\n",
    "print jobs['details']"
   ]
  },
  {
   "cell_type": "code",
   "execution_count": 438,
   "metadata": {},
   "outputs": [],
   "source": [
    "work_days = 251\n",
    "work_hours = 9\n",
    "\n",
    "# function returns mid point of a given salary range, else pass if no salary data available\n",
    "# if salary quoted per year, return mid point of range\n",
    "# if salary quoted per hour, return mid point of range * no. of work days in year * no. of work hours/day (annualising)\n",
    "def salary_cleaner(salary_range):\n",
    "    \n",
    "    try:\n",
    "        if 'Year' in salary_range:\n",
    "            sal = re.findall(r'[0-9.]+',salary_range.replace('$','').replace(',',''))\n",
    "            return np.mean([float(i) for i in sal])\n",
    "        \n",
    "        elif 'Hour' in salary_range:\n",
    "            sal = re.findall(r'[0-9.]+',salary_range.replace('$','').replace(',',''))\n",
    "            return np.mean([float(i) for i in sal]) * work_days * work_hours\n",
    "        \n",
    "    except TypeError:\n",
    "        pass\n",
    "    \n",
    "    return"
   ]
  },
  {
   "cell_type": "code",
   "execution_count": 439,
   "metadata": {},
   "outputs": [],
   "source": [
    "clean_salary = []\n",
    "for i in jobs['salary']:\n",
    "    i = salary_cleaner(i)\n",
    "    clean_salary.append(i)"
   ]
  },
  {
   "cell_type": "code",
   "execution_count": 440,
   "metadata": {},
   "outputs": [],
   "source": [
    "clean_salary = pd.Series(clean_salary)"
   ]
  },
  {
   "cell_type": "code",
   "execution_count": 441,
   "metadata": {},
   "outputs": [],
   "source": [
    "jobs['clean_salary'] = clean_salary.values"
   ]
  },
  {
   "cell_type": "code",
   "execution_count": 442,
   "metadata": {
    "scrolled": true
   },
   "outputs": [],
   "source": [
    "jobs = jobs.drop(['salary'],axis=1)"
   ]
  },
  {
   "cell_type": "code",
   "execution_count": 443,
   "metadata": {},
   "outputs": [
    {
     "data": {
      "text/plain": [
       "(1702, 7)"
      ]
     },
     "execution_count": 443,
     "metadata": {},
     "output_type": "execute_result"
    }
   ],
   "source": [
    "# Analyse only those with salary information\n",
    "jobs.dropna(subset=['clean_salary'], inplace=True)\n",
    "\n",
    "jobs.shape"
   ]
  },
  {
   "cell_type": "code",
   "execution_count": 446,
   "metadata": {},
   "outputs": [
    {
     "data": {
      "text/html": [
       "<div>\n",
       "<style scoped>\n",
       "    .dataframe tbody tr th:only-of-type {\n",
       "        vertical-align: middle;\n",
       "    }\n",
       "\n",
       "    .dataframe tbody tr th {\n",
       "        vertical-align: top;\n",
       "    }\n",
       "\n",
       "    .dataframe thead th {\n",
       "        text-align: right;\n",
       "    }\n",
       "</style>\n",
       "<table border=\"1\" class=\"dataframe\">\n",
       "  <thead>\n",
       "    <tr style=\"text-align: right;\">\n",
       "      <th></th>\n",
       "      <th>company</th>\n",
       "      <th>details</th>\n",
       "      <th>experience</th>\n",
       "      <th>industry</th>\n",
       "      <th>location</th>\n",
       "      <th>title</th>\n",
       "      <th>clean_salary</th>\n",
       "    </tr>\n",
       "  </thead>\n",
       "  <tbody>\n",
       "    <tr>\n",
       "      <th>12</th>\n",
       "      <td>American Cybersystems, Inc. (ACS Group)</td>\n",
       "      <td>job title: (ids) data scientist \\n location: n...</td>\n",
       "      <td>NaN</td>\n",
       "      <td>Other Great Industries</td>\n",
       "      <td>Newport News, VA</td>\n",
       "      <td>AI Engineer</td>\n",
       "      <td>135540.0</td>\n",
       "    </tr>\n",
       "    <tr>\n",
       "      <th>16</th>\n",
       "      <td>CyberCoders</td>\n",
       "      <td>this position is open as of 4/22/2018.leading ...</td>\n",
       "      <td>NaN</td>\n",
       "      <td>Industrial</td>\n",
       "      <td>Los Angeles, CA 90001</td>\n",
       "      <td>AI Engineer</td>\n",
       "      <td>140000.0</td>\n",
       "    </tr>\n",
       "    <tr>\n",
       "      <th>17</th>\n",
       "      <td>Synergy Business Consulting, Inc.</td>\n",
       "      <td>data scientist\\nposition summary:\\n \\nseeking ...</td>\n",
       "      <td>2+ years</td>\n",
       "      <td>Travel</td>\n",
       "      <td>Miami, FL</td>\n",
       "      <td>AI Engineer</td>\n",
       "      <td>100000.0</td>\n",
       "    </tr>\n",
       "    <tr>\n",
       "      <th>22</th>\n",
       "      <td>Access Staffing LLC</td>\n",
       "      <td>data scientist- texas- contract only!!!\\ndurat...</td>\n",
       "      <td>NaN</td>\n",
       "      <td>Consulting</td>\n",
       "      <td>Houston, TX</td>\n",
       "      <td>AI Engineer</td>\n",
       "      <td>37500.0</td>\n",
       "    </tr>\n",
       "    <tr>\n",
       "      <th>37</th>\n",
       "      <td>American Cybersystems, Inc. (ACS Group)</td>\n",
       "      <td>job title: (ids) data scientist \\n location: n...</td>\n",
       "      <td>NaN</td>\n",
       "      <td>Other Great Industries</td>\n",
       "      <td>Newport News, VA</td>\n",
       "      <td>AI Engineer</td>\n",
       "      <td>135540.0</td>\n",
       "    </tr>\n",
       "  </tbody>\n",
       "</table>\n",
       "</div>"
      ],
      "text/plain": [
       "                                    company  \\\n",
       "12  American Cybersystems, Inc. (ACS Group)   \n",
       "16                              CyberCoders   \n",
       "17        Synergy Business Consulting, Inc.   \n",
       "22                      Access Staffing LLC   \n",
       "37  American Cybersystems, Inc. (ACS Group)   \n",
       "\n",
       "                                              details experience  \\\n",
       "12  job title: (ids) data scientist \\n location: n...        NaN   \n",
       "16  this position is open as of 4/22/2018.leading ...        NaN   \n",
       "17  data scientist\\nposition summary:\\n \\nseeking ...   2+ years   \n",
       "22  data scientist- texas- contract only!!!\\ndurat...        NaN   \n",
       "37  job title: (ids) data scientist \\n location: n...        NaN   \n",
       "\n",
       "                  industry               location        title  clean_salary  \n",
       "12  Other Great Industries       Newport News, VA  AI Engineer      135540.0  \n",
       "16              Industrial  Los Angeles, CA 90001  AI Engineer      140000.0  \n",
       "17                  Travel              Miami, FL  AI Engineer      100000.0  \n",
       "22              Consulting            Houston, TX  AI Engineer       37500.0  \n",
       "37  Other Great Industries       Newport News, VA  AI Engineer      135540.0  "
      ]
     },
     "execution_count": 446,
     "metadata": {},
     "output_type": "execute_result"
    }
   ],
   "source": [
    "jobs.head()"
   ]
  },
  {
   "cell_type": "code",
   "execution_count": 447,
   "metadata": {},
   "outputs": [],
   "source": [
    "# lab_enc = preprocessing.LabelEncoder()\n",
    "# jobs['industry'] = lab_enc.fit_transform(jobs['industry'])"
   ]
  },
  {
   "cell_type": "markdown",
   "metadata": {},
   "source": [
    "Above code was used to try to resolve below error \"ValueError: Unknown label type: 'continuous', but alas, it was not to be.."
   ]
  },
  {
   "cell_type": "code",
   "execution_count": 448,
   "metadata": {},
   "outputs": [],
   "source": [
    "# Use industry to predict salary\n",
    "X = jobs['industry']\n",
    "y = jobs['clean_salary']"
   ]
  },
  {
   "cell_type": "code",
   "execution_count": 449,
   "metadata": {},
   "outputs": [],
   "source": [
    "X_train, X_test, y_train, y_test = train_test_split(X, y, random_state=1)"
   ]
  },
  {
   "cell_type": "code",
   "execution_count": 450,
   "metadata": {},
   "outputs": [
    {
     "data": {
      "text/plain": [
       "CountVectorizer(analyzer=u'word', binary=False, decode_error=u'strict',\n",
       "        dtype=<type 'numpy.int64'>, encoding=u'utf-8', input=u'content',\n",
       "        lowercase=True, max_df=1.0, max_features=None, min_df=1,\n",
       "        ngram_range=(2, 3), preprocessor=None, stop_words='english',\n",
       "        strip_accents=None, token_pattern=u'(?u)\\\\b\\\\w\\\\w+\\\\b',\n",
       "        tokenizer=None, vocabulary=None)"
      ]
     },
     "execution_count": 450,
     "metadata": {},
     "output_type": "execute_result"
    }
   ],
   "source": [
    "cvec = CountVectorizer(ngram_range=(2,3), stop_words='english')\n",
    "cvec.fit(X_train)"
   ]
  },
  {
   "cell_type": "code",
   "execution_count": 451,
   "metadata": {},
   "outputs": [],
   "source": [
    "X_train = cvec.transform(X_train)\n",
    "X_test = cvec.transform(X_test)"
   ]
  },
  {
   "cell_type": "code",
   "execution_count": 452,
   "metadata": {},
   "outputs": [
    {
     "data": {
      "text/plain": [
       "<1276x406 sparse matrix of type '<type 'numpy.int64'>'\n",
       "\twith 3444 stored elements in Compressed Sparse Row format>"
      ]
     },
     "execution_count": 452,
     "metadata": {},
     "output_type": "execute_result"
    }
   ],
   "source": [
    "X_train"
   ]
  },
  {
   "cell_type": "code",
   "execution_count": 453,
   "metadata": {},
   "outputs": [
    {
     "ename": "ValueError",
     "evalue": "Unknown label type: 'continuous'",
     "output_type": "error",
     "traceback": [
      "\u001b[0;31m---------------------------------------------------------------------------\u001b[0m",
      "\u001b[0;31mValueError\u001b[0m                                Traceback (most recent call last)",
      "\u001b[0;32m<ipython-input-453-6a6b243c9069>\u001b[0m in \u001b[0;36m<module>\u001b[0;34m()\u001b[0m\n\u001b[1;32m      1\u001b[0m \u001b[0mlog\u001b[0m \u001b[0;34m=\u001b[0m \u001b[0mLogisticRegression\u001b[0m\u001b[0;34m(\u001b[0m\u001b[0;34m)\u001b[0m\u001b[0;34m\u001b[0m\u001b[0m\n\u001b[1;32m      2\u001b[0m \u001b[0;34m\u001b[0m\u001b[0m\n\u001b[0;32m----> 3\u001b[0;31m \u001b[0mlog\u001b[0m\u001b[0;34m.\u001b[0m\u001b[0mfit\u001b[0m\u001b[0;34m(\u001b[0m\u001b[0mX_train\u001b[0m\u001b[0;34m,\u001b[0m \u001b[0my_train\u001b[0m\u001b[0;34m)\u001b[0m\u001b[0;34m\u001b[0m\u001b[0m\n\u001b[0m\u001b[1;32m      4\u001b[0m \u001b[0my_pred_class\u001b[0m \u001b[0;34m=\u001b[0m \u001b[0mlog\u001b[0m\u001b[0;34m.\u001b[0m\u001b[0mpredict\u001b[0m\u001b[0;34m(\u001b[0m\u001b[0mX_test\u001b[0m\u001b[0;34m)\u001b[0m\u001b[0;34m\u001b[0m\u001b[0m\n\u001b[1;32m      5\u001b[0m \u001b[0mmetrics\u001b[0m\u001b[0;34m.\u001b[0m\u001b[0maccuracy_score\u001b[0m\u001b[0;34m(\u001b[0m\u001b[0my_test\u001b[0m\u001b[0;34m,\u001b[0m \u001b[0my_pred_class\u001b[0m\u001b[0;34m)\u001b[0m\u001b[0;34m\u001b[0m\u001b[0m\n",
      "\u001b[0;32m/Users/jjwoo/anaconda3/envs/py27/lib/python2.7/site-packages/sklearn/linear_model/logistic.pyc\u001b[0m in \u001b[0;36mfit\u001b[0;34m(self, X, y, sample_weight)\u001b[0m\n\u001b[1;32m   1215\u001b[0m         X, y = check_X_y(X, y, accept_sparse='csr', dtype=_dtype,\n\u001b[1;32m   1216\u001b[0m                          order=\"C\")\n\u001b[0;32m-> 1217\u001b[0;31m         \u001b[0mcheck_classification_targets\u001b[0m\u001b[0;34m(\u001b[0m\u001b[0my\u001b[0m\u001b[0;34m)\u001b[0m\u001b[0;34m\u001b[0m\u001b[0m\n\u001b[0m\u001b[1;32m   1218\u001b[0m         \u001b[0mself\u001b[0m\u001b[0;34m.\u001b[0m\u001b[0mclasses_\u001b[0m \u001b[0;34m=\u001b[0m \u001b[0mnp\u001b[0m\u001b[0;34m.\u001b[0m\u001b[0munique\u001b[0m\u001b[0;34m(\u001b[0m\u001b[0my\u001b[0m\u001b[0;34m)\u001b[0m\u001b[0;34m\u001b[0m\u001b[0m\n\u001b[1;32m   1219\u001b[0m         \u001b[0mn_samples\u001b[0m\u001b[0;34m,\u001b[0m \u001b[0mn_features\u001b[0m \u001b[0;34m=\u001b[0m \u001b[0mX\u001b[0m\u001b[0;34m.\u001b[0m\u001b[0mshape\u001b[0m\u001b[0;34m\u001b[0m\u001b[0m\n",
      "\u001b[0;32m/Users/jjwoo/anaconda3/envs/py27/lib/python2.7/site-packages/sklearn/utils/multiclass.pyc\u001b[0m in \u001b[0;36mcheck_classification_targets\u001b[0;34m(y)\u001b[0m\n\u001b[1;32m    170\u001b[0m     if y_type not in ['binary', 'multiclass', 'multiclass-multioutput',\n\u001b[1;32m    171\u001b[0m                       'multilabel-indicator', 'multilabel-sequences']:\n\u001b[0;32m--> 172\u001b[0;31m         \u001b[0;32mraise\u001b[0m \u001b[0mValueError\u001b[0m\u001b[0;34m(\u001b[0m\u001b[0;34m\"Unknown label type: %r\"\u001b[0m \u001b[0;34m%\u001b[0m \u001b[0my_type\u001b[0m\u001b[0;34m)\u001b[0m\u001b[0;34m\u001b[0m\u001b[0m\n\u001b[0m\u001b[1;32m    173\u001b[0m \u001b[0;34m\u001b[0m\u001b[0m\n\u001b[1;32m    174\u001b[0m \u001b[0;34m\u001b[0m\u001b[0m\n",
      "\u001b[0;31mValueError\u001b[0m: Unknown label type: 'continuous'"
     ]
    }
   ],
   "source": [
    "log = LogisticRegression()\n",
    "\n",
    "log.fit(X_train, y_train)\n",
    "y_pred_class = log.predict(X_test)\n",
    "metrics.accuracy_score(y_test, y_pred_class)"
   ]
  },
  {
   "cell_type": "code",
   "execution_count": 454,
   "metadata": {
    "scrolled": true
   },
   "outputs": [
    {
     "ename": "ValueError",
     "evalue": "Unknown label type: 'continuous'",
     "output_type": "error",
     "traceback": [
      "\u001b[0;31m---------------------------------------------------------------------------\u001b[0m",
      "\u001b[0;31mValueError\u001b[0m                                Traceback (most recent call last)",
      "\u001b[0;32m<ipython-input-454-8dc094fb1c99>\u001b[0m in \u001b[0;36m<module>\u001b[0;34m()\u001b[0m\n\u001b[1;32m      1\u001b[0m \u001b[0mRF_clf\u001b[0m \u001b[0;34m=\u001b[0m \u001b[0mRandomForestClassifier\u001b[0m\u001b[0;34m(\u001b[0m\u001b[0mn_estimators\u001b[0m\u001b[0;34m=\u001b[0m\u001b[0;36m15\u001b[0m\u001b[0;34m)\u001b[0m\u001b[0;34m\u001b[0m\u001b[0m\n\u001b[0;32m----> 2\u001b[0;31m \u001b[0mRF_clf\u001b[0m \u001b[0;34m=\u001b[0m \u001b[0mRF_clf\u001b[0m\u001b[0;34m.\u001b[0m\u001b[0mfit\u001b[0m\u001b[0;34m(\u001b[0m\u001b[0mX_train\u001b[0m\u001b[0;34m,\u001b[0m \u001b[0my_train\u001b[0m\u001b[0;34m)\u001b[0m\u001b[0;34m\u001b[0m\u001b[0m\n\u001b[0m\u001b[1;32m      3\u001b[0m \u001b[0mpredicted\u001b[0m \u001b[0;34m=\u001b[0m \u001b[0mRF_clf\u001b[0m\u001b[0;34m.\u001b[0m\u001b[0mpredict\u001b[0m\u001b[0;34m(\u001b[0m\u001b[0mX_test\u001b[0m\u001b[0;34m)\u001b[0m\u001b[0;34m\u001b[0m\u001b[0m\n\u001b[1;32m      4\u001b[0m \u001b[0;34m\u001b[0m\u001b[0m\n\u001b[1;32m      5\u001b[0m \u001b[0;34m\u001b[0m\u001b[0m\n",
      "\u001b[0;32m/Users/jjwoo/anaconda3/envs/py27/lib/python2.7/site-packages/sklearn/ensemble/forest.pyc\u001b[0m in \u001b[0;36mfit\u001b[0;34m(self, X, y, sample_weight)\u001b[0m\n\u001b[1;32m    271\u001b[0m         \u001b[0mself\u001b[0m\u001b[0;34m.\u001b[0m\u001b[0mn_outputs_\u001b[0m \u001b[0;34m=\u001b[0m \u001b[0my\u001b[0m\u001b[0;34m.\u001b[0m\u001b[0mshape\u001b[0m\u001b[0;34m[\u001b[0m\u001b[0;36m1\u001b[0m\u001b[0;34m]\u001b[0m\u001b[0;34m\u001b[0m\u001b[0m\n\u001b[1;32m    272\u001b[0m \u001b[0;34m\u001b[0m\u001b[0m\n\u001b[0;32m--> 273\u001b[0;31m         \u001b[0my\u001b[0m\u001b[0;34m,\u001b[0m \u001b[0mexpanded_class_weight\u001b[0m \u001b[0;34m=\u001b[0m \u001b[0mself\u001b[0m\u001b[0;34m.\u001b[0m\u001b[0m_validate_y_class_weight\u001b[0m\u001b[0;34m(\u001b[0m\u001b[0my\u001b[0m\u001b[0;34m)\u001b[0m\u001b[0;34m\u001b[0m\u001b[0m\n\u001b[0m\u001b[1;32m    274\u001b[0m \u001b[0;34m\u001b[0m\u001b[0m\n\u001b[1;32m    275\u001b[0m         \u001b[0;32mif\u001b[0m \u001b[0mgetattr\u001b[0m\u001b[0;34m(\u001b[0m\u001b[0my\u001b[0m\u001b[0;34m,\u001b[0m \u001b[0;34m\"dtype\"\u001b[0m\u001b[0;34m,\u001b[0m \u001b[0mNone\u001b[0m\u001b[0;34m)\u001b[0m \u001b[0;34m!=\u001b[0m \u001b[0mDOUBLE\u001b[0m \u001b[0;32mor\u001b[0m \u001b[0;32mnot\u001b[0m \u001b[0my\u001b[0m\u001b[0;34m.\u001b[0m\u001b[0mflags\u001b[0m\u001b[0;34m.\u001b[0m\u001b[0mcontiguous\u001b[0m\u001b[0;34m:\u001b[0m\u001b[0;34m\u001b[0m\u001b[0m\n",
      "\u001b[0;32m/Users/jjwoo/anaconda3/envs/py27/lib/python2.7/site-packages/sklearn/ensemble/forest.pyc\u001b[0m in \u001b[0;36m_validate_y_class_weight\u001b[0;34m(self, y)\u001b[0m\n\u001b[1;32m    469\u001b[0m \u001b[0;34m\u001b[0m\u001b[0m\n\u001b[1;32m    470\u001b[0m     \u001b[0;32mdef\u001b[0m \u001b[0m_validate_y_class_weight\u001b[0m\u001b[0;34m(\u001b[0m\u001b[0mself\u001b[0m\u001b[0;34m,\u001b[0m \u001b[0my\u001b[0m\u001b[0;34m)\u001b[0m\u001b[0;34m:\u001b[0m\u001b[0;34m\u001b[0m\u001b[0m\n\u001b[0;32m--> 471\u001b[0;31m         \u001b[0mcheck_classification_targets\u001b[0m\u001b[0;34m(\u001b[0m\u001b[0my\u001b[0m\u001b[0;34m)\u001b[0m\u001b[0;34m\u001b[0m\u001b[0m\n\u001b[0m\u001b[1;32m    472\u001b[0m \u001b[0;34m\u001b[0m\u001b[0m\n\u001b[1;32m    473\u001b[0m         \u001b[0my\u001b[0m \u001b[0;34m=\u001b[0m \u001b[0mnp\u001b[0m\u001b[0;34m.\u001b[0m\u001b[0mcopy\u001b[0m\u001b[0;34m(\u001b[0m\u001b[0my\u001b[0m\u001b[0;34m)\u001b[0m\u001b[0;34m\u001b[0m\u001b[0m\n",
      "\u001b[0;32m/Users/jjwoo/anaconda3/envs/py27/lib/python2.7/site-packages/sklearn/utils/multiclass.pyc\u001b[0m in \u001b[0;36mcheck_classification_targets\u001b[0;34m(y)\u001b[0m\n\u001b[1;32m    170\u001b[0m     if y_type not in ['binary', 'multiclass', 'multiclass-multioutput',\n\u001b[1;32m    171\u001b[0m                       'multilabel-indicator', 'multilabel-sequences']:\n\u001b[0;32m--> 172\u001b[0;31m         \u001b[0;32mraise\u001b[0m \u001b[0mValueError\u001b[0m\u001b[0;34m(\u001b[0m\u001b[0;34m\"Unknown label type: %r\"\u001b[0m \u001b[0;34m%\u001b[0m \u001b[0my_type\u001b[0m\u001b[0;34m)\u001b[0m\u001b[0;34m\u001b[0m\u001b[0m\n\u001b[0m\u001b[1;32m    173\u001b[0m \u001b[0;34m\u001b[0m\u001b[0m\n\u001b[1;32m    174\u001b[0m \u001b[0;34m\u001b[0m\u001b[0m\n",
      "\u001b[0;31mValueError\u001b[0m: Unknown label type: 'continuous'"
     ]
    }
   ],
   "source": [
    "RF_clf = RandomForestClassifier(n_estimators=15)\n",
    "RF_clf = RF_clf.fit(X_train, y_train)\n",
    "predicted = RF_clf.predict(X_test)\n",
    "\n",
    "\n",
    "print classification_report(y_test, predicted)\n",
    "cm = confusion_matrix(y_test, predicted)\n",
    "print cm"
   ]
  },
  {
   "cell_type": "markdown",
   "metadata": {},
   "source": [
    "### Question 2"
   ]
  },
  {
   "cell_type": "code",
   "execution_count": 455,
   "metadata": {},
   "outputs": [
    {
     "data": {
      "text/plain": [
       "Data Engineer                 231\n",
       "Machine Learning Engineer     206\n",
       "Data Architect                192\n",
       "Statistician                  154\n",
       "Business Analyst              146\n",
       "Business Intelligence         142\n",
       "Machine Learning Scientist    129\n",
       "AI Scientist                  117\n",
       "Statistical Programmer         89\n",
       "Database Developer             79\n",
       "Database Administrator         59\n",
       "Data Scientist                 59\n",
       "Data Analyst                   51\n",
       "AI Engineer                    48\n",
       "Name: title, dtype: int64"
      ]
     },
     "execution_count": 455,
     "metadata": {},
     "output_type": "execute_result"
    }
   ],
   "source": [
    "# Generate value counts of job categories\n",
    "jobs.title.value_counts()"
   ]
  },
  {
   "cell_type": "code",
   "execution_count": 456,
   "metadata": {},
   "outputs": [
    {
     "data": {
      "text/plain": [
       "0    1643\n",
       "1      59\n",
       "Name: datasci, dtype: int64"
      ]
     },
     "execution_count": 456,
     "metadata": {},
     "output_type": "execute_result"
    }
   ],
   "source": [
    "# split into data sci and non data sci titles\n",
    "jobs['datasci'] = jobs['title'].map(lambda x: 1 if x == 'Data Scientist' else 0)\n",
    "\n",
    "jobs.datasci.value_counts()"
   ]
  },
  {
   "cell_type": "code",
   "execution_count": 457,
   "metadata": {},
   "outputs": [
    {
     "ename": "AttributeError",
     "evalue": "'Series' object has no attribute 'todense'",
     "output_type": "error",
     "traceback": [
      "\u001b[0;31m---------------------------------------------------------------------------\u001b[0m",
      "\u001b[0;31mAttributeError\u001b[0m                            Traceback (most recent call last)",
      "\u001b[0;32m<ipython-input-457-cea3b3f06f80>\u001b[0m in \u001b[0;36m<module>\u001b[0;34m()\u001b[0m\n\u001b[1;32m      1\u001b[0m \u001b[0;31m# generate tf-idf matrix from job details\u001b[0m\u001b[0;34m\u001b[0m\u001b[0;34m\u001b[0m\u001b[0m\n\u001b[0;32m----> 2\u001b[0;31m \u001b[0mdf\u001b[0m \u001b[0;34m=\u001b[0m \u001b[0mpd\u001b[0m\u001b[0;34m.\u001b[0m\u001b[0mDataFrame\u001b[0m\u001b[0;34m(\u001b[0m\u001b[0mdata\u001b[0m\u001b[0;34m=\u001b[0m\u001b[0mjobs\u001b[0m\u001b[0;34m[\u001b[0m\u001b[0;34m'details'\u001b[0m\u001b[0;34m]\u001b[0m\u001b[0;34m.\u001b[0m\u001b[0mtodense\u001b[0m\u001b[0;34m(\u001b[0m\u001b[0;34m)\u001b[0m\u001b[0;34m,\u001b[0m \u001b[0mcolumns\u001b[0m\u001b[0;34m=\u001b[0m\u001b[0mvect\u001b[0m\u001b[0;34m.\u001b[0m\u001b[0mget_feature_names\u001b[0m\u001b[0;34m(\u001b[0m\u001b[0;34m)\u001b[0m\u001b[0;34m)\u001b[0m\u001b[0;34m\u001b[0m\u001b[0m\n\u001b[0m\u001b[1;32m      3\u001b[0m \u001b[0mdf\u001b[0m\u001b[0;34m.\u001b[0m\u001b[0mhead\u001b[0m\u001b[0;34m(\u001b[0m\u001b[0;36m2\u001b[0m\u001b[0;34m)\u001b[0m\u001b[0;34m\u001b[0m\u001b[0m\n",
      "\u001b[0;32m/Users/jjwoo/anaconda3/envs/py27/lib/python2.7/site-packages/pandas/core/generic.pyc\u001b[0m in \u001b[0;36m__getattr__\u001b[0;34m(self, name)\u001b[0m\n\u001b[1;32m   3612\u001b[0m             \u001b[0;32mif\u001b[0m \u001b[0mname\u001b[0m \u001b[0;32min\u001b[0m \u001b[0mself\u001b[0m\u001b[0;34m.\u001b[0m\u001b[0m_info_axis\u001b[0m\u001b[0;34m:\u001b[0m\u001b[0;34m\u001b[0m\u001b[0m\n\u001b[1;32m   3613\u001b[0m                 \u001b[0;32mreturn\u001b[0m \u001b[0mself\u001b[0m\u001b[0;34m[\u001b[0m\u001b[0mname\u001b[0m\u001b[0;34m]\u001b[0m\u001b[0;34m\u001b[0m\u001b[0m\n\u001b[0;32m-> 3614\u001b[0;31m             \u001b[0;32mreturn\u001b[0m \u001b[0mobject\u001b[0m\u001b[0;34m.\u001b[0m\u001b[0m__getattribute__\u001b[0m\u001b[0;34m(\u001b[0m\u001b[0mself\u001b[0m\u001b[0;34m,\u001b[0m \u001b[0mname\u001b[0m\u001b[0;34m)\u001b[0m\u001b[0;34m\u001b[0m\u001b[0m\n\u001b[0m\u001b[1;32m   3615\u001b[0m \u001b[0;34m\u001b[0m\u001b[0m\n\u001b[1;32m   3616\u001b[0m     \u001b[0;32mdef\u001b[0m \u001b[0m__setattr__\u001b[0m\u001b[0;34m(\u001b[0m\u001b[0mself\u001b[0m\u001b[0;34m,\u001b[0m \u001b[0mname\u001b[0m\u001b[0;34m,\u001b[0m \u001b[0mvalue\u001b[0m\u001b[0;34m)\u001b[0m\u001b[0;34m:\u001b[0m\u001b[0;34m\u001b[0m\u001b[0m\n",
      "\u001b[0;31mAttributeError\u001b[0m: 'Series' object has no attribute 'todense'"
     ]
    }
   ],
   "source": [
    "# generate tf-idf matrix from job details\n",
    "df = pd.DataFrame(data=jobs['details'].todense(), columns=vect.get_feature_names())\n",
    "df.head(2)"
   ]
  },
  {
   "cell_type": "code",
   "execution_count": null,
   "metadata": {},
   "outputs": [],
   "source": []
  },
  {
   "cell_type": "code",
   "execution_count": null,
   "metadata": {},
   "outputs": [],
   "source": []
  },
  {
   "cell_type": "code",
   "execution_count": null,
   "metadata": {},
   "outputs": [],
   "source": []
  },
  {
   "cell_type": "code",
   "execution_count": null,
   "metadata": {},
   "outputs": [],
   "source": []
  }
 ],
 "metadata": {
  "kernelspec": {
   "display_name": "Python 2",
   "language": "python",
   "name": "python2"
  },
  "language_info": {
   "codemirror_mode": {
    "name": "ipython",
    "version": 2
   },
   "file_extension": ".py",
   "mimetype": "text/x-python",
   "name": "python",
   "nbconvert_exporter": "python",
   "pygments_lexer": "ipython2",
   "version": "2.7.14"
  }
 },
 "nbformat": 4,
 "nbformat_minor": 2
}
